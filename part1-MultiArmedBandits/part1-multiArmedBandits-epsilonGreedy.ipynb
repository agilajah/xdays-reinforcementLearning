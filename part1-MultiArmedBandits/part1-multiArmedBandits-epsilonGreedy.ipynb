{
 "cells": [
  {
   "cell_type": "markdown",
   "metadata": {},
   "source": [
    "# Multi-armed Bandit Code Walkthrough - Epsilon Greedy\n",
    "\n",
    "## Introduction\n",
    "\n",
    "Pada bagian *walkthrough code* kali ini saya akan mengimplementasikan algoritma untuk menyelesaikan persoalan *multi-armed bandits* dengan metode *epsilon-greedy* untuk mencoba menyeimbangkan antara eksplorasi dan eksploitasi. "
   ]
  },
  {
   "cell_type": "code",
   "execution_count": 7,
   "metadata": {
    "collapsed": false
   },
   "outputs": [],
   "source": [
    "import numpy as np \n",
    "import matplotlib.pyplot as plt "
   ]
  },
  {
   "cell_type": "markdown",
   "metadata": {},
   "source": [
    "## The Bandits\n",
    "\n",
    "Di sini kita akan menggunakan distribusi normal (Gaussian) dengan *sigma* = 1 (*variance*), *mean* = 0, dan 15 buah bandit."
   ]
  },
  {
   "cell_type": "code",
   "execution_count": 8,
   "metadata": {
    "collapsed": true
   },
   "outputs": [],
   "source": [
    "n_bandits = 15\n",
    "\n",
    "class multiArmedBandit: \n",
    "    def __init__(self):\n",
    "        self.num_bandits = n_bandits\n",
    "        self.arm_values = np.random.normal(0, 1, self.num_bandits) \n",
    "        self.K = np.zeros(self.num_bandits) #inisialisasi banyaknya aksi/tuas tersebut dipilih dengan nol\n",
    "        self.est_values = np.zeros(self.num_bandits) #inisialisasi estimasi untuk masing-masing tuas (bandit)\n",
    "        \n",
    "    def get_reward(self, action): \n",
    "        # reward ditambah dengan Gaussian noise yang juga memiliki sigma = 1 dan mean =0\n",
    "        noise = np.random.normal(0,1) \n",
    "        reward = self.arm_values[action] + noise \n",
    "        return reward \n",
    "\n",
    "    def choose_action(self, epsilon):\n",
    "        # epsilon dari keseluruhan pemilihan akan menggunakan non-greedy actions, \n",
    "        # 1 - epsilon lainnya menggunakan greedy action\n",
    "        rand_num = np.random.rand(1) \n",
    "        if epsilon>rand_num:\n",
    "          return np.random.randint(self.num_bandits)\n",
    "        else: \n",
    "          return np.argmax(self.est_values)\n",
    "\n",
    "    def update_estimation(self, action, reward): \n",
    "        self.K[action] += 1 # mencatat sudah berapa kali aksi tersebut diambil\n",
    "        alpha = 1./self.K[action] # step-size parameter\n",
    "        self.est_values[action] += alpha * (reward - self.est_values[action]) # meng-update estimasi dengan nilai baru\n"
   ]
  },
  {
   "cell_type": "markdown",
   "metadata": {},
   "source": [
    "## Experiment - 1\n",
    "\n",
    "Kita telah membuat k buah bandit dengan reward pada masing-masing bandit terdistribusi normal. Untuk eksperimen kali ini saya akan mencoba untuk membuat semacam *scoreboard* untuk mencatat total *reward* yang didapatkan masing-masing tuas (bandit), kemudian membiarkan *agent* menebak kira-kira bandit manakah yang lebih menjanjikan?"
   ]
  },
  {
   "cell_type": "code",
   "execution_count": 9,
   "metadata": {
    "collapsed": false
   },
   "outputs": [],
   "source": [
    "def experiment_guess(bandit, Npulls, epsilon):\n",
    "    i = 0\n",
    "    total_reward = np.zeros(bandit.num_bandits) #menginisasi scoreboard dengan nol sejumlah bandit yang ada\n",
    "    print 'Scoreboard awal :' + str(total_reward)\n",
    "    print 'Nilai tuas(sebenarnya) : '\n",
    "    print str(bandit.arm_values)\n",
    "    for i in range(Npulls):\n",
    "        action = bandit.choose_action(epsilon)\n",
    "        total_reward[action] = bandit.get_reward(action)\n",
    "        bandit.update_estimation(action, total_reward[action])\n",
    "        if (i % 100) == 0:\n",
    "            print \"Mendapatkan reward untuk \" + str(n_bandits) + \" bandit :\" \n",
    "            print str(total_reward)\n",
    "        i+=1\n",
    "        \n",
    "    # agent menebak bandit mana yang lebih menjanjikan\n",
    "    print \"Agent menebak bandit ke \"+ str(np.argmax(bandit.est_values)+1) + \" lebih menjanjikan.\"\n",
    "\n",
    "    if (np.argmax(bandit.est_values) == np.argmax(bandit.arm_values)):\n",
    "        print \"... dan itu benar!\"\n",
    "    else:\n",
    "        print \"... dan itu salah!\"  "
   ]
  },
  {
   "cell_type": "code",
   "execution_count": 10,
   "metadata": {
    "collapsed": false
   },
   "outputs": [
    {
     "name": "stdout",
     "output_type": "stream",
     "text": [
      "Scoreboard awal :[ 0.  0.  0.  0.  0.  0.  0.  0.  0.  0.  0.  0.  0.  0.  0.]\n",
      "Nilai tuas(sebenarnya) : \n",
      "[ 0.03555238  0.52341045 -1.03114238 -1.04369813  0.18442987  1.16566869\n",
      "  0.65563748 -1.63740889 -1.23656459  0.09902625 -0.70137377 -0.05125116\n",
      " -0.10064718 -0.3684139   0.72992125]\n",
      "Mendapatkan reward untuk 15 bandit :\n",
      "[ 2.69359464  0.          0.          0.          0.          0.          0.\n",
      "  0.          0.          0.          0.          0.          0.          0.\n",
      "  0.        ]\n",
      "Mendapatkan reward untuk 15 bandit :\n",
      "[ 0.26038052  0.39731675  0.          0.          0.         -0.66621914\n",
      "  0.         -1.46950313  0.         -0.71992903  0.         -0.12751178\n",
      "  0.          0.          0.        ]\n",
      "Mendapatkan reward untuk 15 bandit :\n",
      "[ 0.94896176  0.17842809 -1.43065808  0.         -0.34066632  1.99187923\n",
      "  0.         -1.46950313 -3.37220623 -0.71992903 -1.20575208 -1.47968136\n",
      " -0.90156089  0.         -0.55538469]\n",
      "Mendapatkan reward untuk 15 bandit :\n",
      "[ 0.94896176 -0.2448838  -1.0788265  -1.0694428  -0.34066632  1.22519794\n",
      "  0.         -2.31367733 -3.37220623  0.96225573 -1.20575208 -1.47968136\n",
      " -0.90156089 -1.82343    -0.55538469]\n",
      "Mendapatkan reward untuk 15 bandit :\n",
      "[ 0.94896176 -0.2448838  -0.06873507 -0.71165261 -0.34066632 -1.07231075\n",
      "  0.78442359 -1.1217528  -1.07404715  1.80278608 -1.71854669 -1.47968136\n",
      "  1.44610258 -1.82343    -0.55538469]\n",
      "Mendapatkan reward untuk 15 bandit :\n",
      "[ 0.94896176 -0.2448838  -2.85761128 -1.86409236 -0.45498379  1.97399098\n",
      " -1.66194983 -1.1217528  -0.81976575 -0.94950442 -1.71854669 -0.17446913\n",
      "  1.44610258 -0.77587338 -0.55538469]\n",
      "Mendapatkan reward untuk 15 bandit :\n",
      "[ 0.94896176 -0.05622503  0.56434611  0.50432581 -0.87347373  2.00339729\n",
      " -1.66194983 -1.1217528  -0.81976575 -0.94950442  0.25010711 -1.07785918\n",
      "  0.61807105 -2.73781154 -0.55538469]\n",
      "Mendapatkan reward untuk 15 bandit :\n",
      "[ 0.94896176  0.9647885   0.56434611 -1.26924274  0.86145515 -0.5489041\n",
      " -1.66194983 -1.12673771 -0.81976575  0.54604056  0.28742832 -0.94231245\n",
      "  1.67273498 -0.51867162  1.23250191]\n",
      "Mendapatkan reward untuk 15 bandit :\n",
      "[ 0.94896176  0.33266233  0.56434611 -1.3403788   0.86145515  1.72907705\n",
      "  1.88058959 -1.64653492 -0.81976575 -0.01356042  0.28742832  0.65788783\n",
      "  1.67273498 -0.51867162  1.23250191]\n",
      "Mendapatkan reward untuk 15 bandit :\n",
      "[ 0.94896176  0.33266233  0.56434611 -2.14821547 -2.36836488  0.99324081\n",
      "  1.88058959 -1.64653492  1.10009182  0.12167904  0.28742832 -0.49846751\n",
      "  1.67273498 -0.51867162  1.23250191]\n",
      "Mendapatkan reward untuk 15 bandit :\n",
      "[ 0.94896176  1.94178606  0.56434611 -1.29432143 -2.36836488 -0.63114682\n",
      "  1.88058959 -1.31395374 -2.40743184  0.0339382   0.28742832 -0.49846751\n",
      "  1.67273498 -2.39440327  1.48334935]\n",
      "Mendapatkan reward untuk 15 bandit :\n",
      "[ 0.29067747  1.94178606  0.56434611 -1.89854721 -2.36836488  1.12222396\n",
      "  1.88058959 -1.04371457 -1.9354958   2.17635337 -2.88487774  0.76484179\n",
      "  1.67273498 -1.08971173  0.67872505]\n",
      "Mendapatkan reward untuk 15 bandit :\n",
      "[ 0.29067747  0.08101472  0.56434611 -0.73926432 -2.36836488  1.36497357\n",
      "  1.88058959 -0.19996057 -0.94230884  1.6587533  -1.20555118  0.76484179\n",
      " -0.76743887  0.09813634 -0.50629456]\n",
      "Mendapatkan reward untuk 15 bandit :\n",
      "[ 0.29067747  0.5769891  -0.0271565  -0.73926432  0.70526455  0.07205521\n",
      "  1.32058863 -0.19996057 -0.94230884 -0.8360035  -0.51179384  0.35650464\n",
      " -0.2486823  -1.45971815  0.45139141]\n",
      "Mendapatkan reward untuk 15 bandit :\n",
      "[ 0.29067747 -0.49481483 -0.0271565  -0.73926432  0.70526455  1.09216234\n",
      "  1.32058863 -0.38536429 -0.94230884 -0.11875526 -0.99044514  0.35650464\n",
      " -0.2486823  -1.45971815  2.26907491]\n",
      "Mendapatkan reward untuk 15 bandit :\n",
      "[-0.65219326 -1.82049979 -0.0271565  -0.30857842  0.5438063   2.02259937\n",
      "  1.32058863 -0.38536429 -0.93356404  0.03267501 -1.37862061  0.35650464\n",
      " -0.2486823  -1.45971815  2.26907491]\n",
      "Mendapatkan reward untuk 15 bandit :\n",
      "[-1.0082977  -1.82049979 -0.0271565  -0.30857842  0.5438063   0.71085347\n",
      "  1.32058863 -2.05264469  0.09953019 -0.61123313 -1.37862061  0.35650464\n",
      "  1.0999359  -1.45971815 -0.13500095]\n",
      "Mendapatkan reward untuk 15 bandit :\n",
      "[-1.96396002  1.17732975 -0.0271565  -0.30857842  1.28173788  0.84955763\n",
      "  1.32058863 -2.05264469  0.09953019  0.05757692  0.89656623  1.23461561\n",
      "  1.0999359  -1.45971815 -0.85640238]\n",
      "Mendapatkan reward untuk 15 bandit :\n",
      "[-0.31806827 -0.16925958 -0.0271565  -1.58748521  1.28173788  1.67797233\n",
      "  1.32058863 -1.87473325 -0.67085408  0.05757692 -1.46008087  1.23461561\n",
      "  1.20376288 -0.47699225  0.66110376]\n",
      "Mendapatkan reward untuk 15 bandit :\n",
      "[-0.31806827 -0.16925958 -0.0271565  -1.58748521  0.99871251  2.23689052\n",
      "  1.32058863 -1.35197627 -0.67085408 -0.43587757 -1.46008087  0.5178103\n",
      "  1.20376288 -1.07616053  0.66110376]\n",
      "Mendapatkan reward untuk 15 bandit :\n",
      "[-0.31806827  0.88092732 -0.0271565  -1.23187935  0.88180261  2.29116837\n",
      "  0.96669977 -1.35197627 -1.46662965 -0.23038511 -1.46008087  0.5178103\n",
      "  1.20376288 -1.300528    0.66110376]\n",
      "Mendapatkan reward untuk 15 bandit :\n",
      "[-0.31806827  0.00148208 -0.0271565  -0.90398093  0.88180261  1.40243333\n",
      "  0.96669977 -1.3468089  -1.46662965 -0.23038511  0.29529334 -0.36866124\n",
      "  1.20376288 -1.300528    0.66110376]\n",
      "Mendapatkan reward untuk 15 bandit :\n",
      "[ 0.15096742  1.23915249 -0.43091104 -0.90398093  1.36455951  1.01665806\n",
      "  0.96669977 -0.86146188 -2.19062783 -0.23038511 -0.25358699 -0.36866124\n",
      "  1.25016974 -1.300528    0.66110376]\n",
      "Mendapatkan reward untuk 15 bandit :\n",
      "[ 0.42945065 -1.13519323 -0.43091104 -0.90398093  1.36455951  2.54708042\n",
      "  0.96669977 -0.86146188 -2.19062783  0.57084676 -0.7212085  -0.36866124\n",
      "  1.25016974 -1.300528   -1.28211497]\n",
      "Mendapatkan reward untuk 15 bandit :\n",
      "[-0.36890253 -1.13519323 -0.43091104 -0.90398093  1.36455951  1.21993715\n",
      "  0.96669977 -0.86146188 -2.19062783 -1.05531247  0.1380099  -0.36866124\n",
      "  1.25016974 -0.20756874 -1.28211497]\n",
      "Agent menebak bandit ke 6 lebih menjanjikan.\n",
      "ini est value5\n",
      "ini arm value5\n",
      "... dan itu benar!\n"
     ]
    }
   ],
   "source": [
    "Nexperiments = 1 # banyaknya eksperimen yang dijalankan untuk tiap epsilon\n",
    "Npulls = 2500 # banyaknya penarikan dalam satu kali eksperimen\n",
    "#epsilon = 0,1\n",
    "\n",
    "avg_outcome_eps0p1 = np.zeros(Npulls) # rata-rata reward untuk epsilon 0.1\n",
    "\n",
    "for i in range(Nexperiments): \n",
    "   bandit = multiArmedBandit() \n",
    "   experiment_guess(bandit, Npulls, 0.1) "
   ]
  },
  {
   "cell_type": "markdown",
   "metadata": {},
   "source": [
    "## Experiment - 2\n",
    "\n",
    "Mari kita coba modifikasi sedikit fungsi *experiment_guess* untuk menguji bagaimana *epsilon* memengaruhi eksplorasi pada algoritma ini, dengan mencoba menjalankan eksperimen dengan bagian kode di bawah ini:"
   ]
  },
  {
   "cell_type": "code",
   "execution_count": 11,
   "metadata": {
    "collapsed": false
   },
   "outputs": [],
   "source": [
    "def experiment(bandit, Npulls, epsilon):\n",
    "    history = [] \n",
    "    for i in range(Npulls): \n",
    "        action = bandit.choose_action(epsilon)\n",
    "        R = bandit.get_reward(action) \n",
    "        bandit.update_estimation(action,R) \n",
    "        history.append(R) \n",
    "    return np.array(history)"
   ]
  },
  {
   "cell_type": "markdown",
   "metadata": {},
   "source": [
    "Nantinya, kita akan mencoba beberapa nilai epsilon. Untuk setiap nilai epsilon akan dijalankan beberapa kali eksperimen\n",
    "yang terdiri dari sejumlah aksi penarikan tuas bandit-bandit. Kita akan terus mencatat hasil dari setiap eksperimen\n",
    "dan membandingkan bagaimana hasil *reward* untuk setiap epsilon."
   ]
  },
  {
   "cell_type": "code",
   "execution_count": 12,
   "metadata": {
    "collapsed": false
   },
   "outputs": [
    {
     "data": {
      "image/png": "[encoded data removed]",
      "text/plain": [
       "<matplotlib.figure.Figure at 0x7f28102af410>"
      ]
     },
     "metadata": {},
     "output_type": "display_data"
    }
   ],
   "source": [
    "Nexperiments = 1000 # banyaknya eksperimen yang dijalankan untuk tiap epsilon\n",
    "Npulls = 2500 # banyaknya penarikan dalam satu kali eksperimen\n",
    "\n",
    "avg_outcome_eps0p0 = np.zeros(Npulls) # rata-rata reward untuk epsilon 0.0 (greedy)\n",
    "avg_outcome_eps0p01 = np.zeros(Npulls) # rata-rata reward untuk epsilon 0.01\n",
    "avg_outcome_eps0p1 = np.zeros(Npulls) # rata-rata reward untuk epsilon 0.1\n",
    "\n",
    "for i in range(Nexperiments): \n",
    "   bandit_test1 = multiArmedBandit() \n",
    "   avg_outcome_eps0p0 += experiment(bandit_test1, Npulls, 0.0) \n",
    "   bandit_test2 = multiArmedBandit() \n",
    "   avg_outcome_eps0p01 += experiment(bandit_test2, Npulls, 0.01) \n",
    "   bandit_test3 = multiArmedBandit() \n",
    "   avg_outcome_eps0p1 += experiment(bandit_test3, Npulls,0.1) \n",
    "\n",
    "avg_outcome_eps0p0 /= np.float(Nexperiments) \n",
    "avg_outcome_eps0p01 /= np.float(Nexperiments) \n",
    "avg_outcome_eps0p1 /= np.float(Nexperiments) \n",
    "\n",
    "plt.plot(avg_outcome_eps0p0,label=\"eps = 0.0 (greedy)\") \n",
    "plt.plot(avg_outcome_eps0p01,label=\"eps = 0.01\") \n",
    "plt.plot(avg_outcome_eps0p1,label=\"eps = 0.1\") \n",
    "plt.ylim(0,2.2) \n",
    "plt.legend() \n",
    "plt.show()"
   ]
  },
  {
   "cell_type": "markdown",
   "metadata": {},
   "source": [
    "## What does that mean?\n",
    "\n",
    "Setelah menjalankan 1000 eksperimen untuk tiap epsilon, kita mendapatkan grafik seperti di atas. \n",
    "\n",
    "Graf tersebut menunjukkan peningkatan dalam *reward* yang diterima sejalan dengan pengalaman yang dimiliki *agent*. Dapat kita lihat bahwa *greedy action* meningkat jauh lebih cepat dibandingkan dengan *non-greedy actions* (epsilon yang berbeda), artinya *reward* yang didapatkan sangat tinggi di awal (karena *immediate reward*) namun selama pengambilan aksi tetap berada pada level bawah pada grafik. Di setiap step hanya mendapatkan *reward* tertinggi 1, dibandingkan metode lain yang mencapai 1,55. Performanya 'semakin memburuk' dalam jangka panjang.\n",
    "\n",
    "*epsilon-greedy* pada akhirnya memiliki kinerja yang jauh lebih baik karena melakukan eksplorasi dan perlahan-lahan mengenali aksi yang optimal. \n",
    "\n",
    "\n",
    "## Conclusion\n",
    "\n",
    "Pheww. Simple yet powerful, eh?\n",
    "\n",
    "Algoritma di atas terkadang memberikan hasil yang tidak optimal(pada eksperimen pertama). *Agent* seringkali tidak dapat memaksimalkan *Reward*, namun selalu dapat menebak dengan benar tuas mana yang memberikan *reward* tertinggi.\n"
   ]
  }
 ],
 "metadata": {
  "kernelspec": {
   "display_name": "Python 2",
   "language": "python",
   "name": "python2"
  },
  "language_info": {
   "codemirror_mode": {
    "name": "ipython",
    "version": 2
   },
   "file_extension": ".py",
   "mimetype": "text/x-python",
   "name": "python",
   "nbconvert_exporter": "python",
   "pygments_lexer": "ipython2",
   "version": "2.7.12"
  }
 },
 "nbformat": 4,
 "nbformat_minor": 1
}
