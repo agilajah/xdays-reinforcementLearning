{
 "cells": [
  {
   "cell_type": "markdown",
   "metadata": {},
   "source": [
    "# Multi-armed Bandit Code Walkthrough - Epsilon Greedy\n",
    "\n",
    "## Introduction\n",
    "\n",
    "Pada bagian *walkthrough code* kali ini saya akan mengimplementasikan algoritma untuk menyelesaikan persoalan *multi-armed bandits* dengan metode *epsilon-greedy* untuk mencoba menyeimbangkan antara eksplorasi dan eksploitasi. "
   ]
  },
  {
   "cell_type": "code",
   "execution_count": 1,
   "metadata": {
    "collapsed": false
   },
   "outputs": [],
   "source": [
    "import numpy as np \n",
    "import matplotlib.pyplot as plt "
   ]
  },
  {
   "cell_type": "markdown",
   "metadata": {},
   "source": [
    "## The Bandits\n",
    "\n",
    "Di sini kita akan menggunakan distribusi normal (Gaussian) dengan *sigma* = 1 (*variance*), *mean* = 0, dan 15 buah bandit."
   ]
  },
  {
   "cell_type": "code",
   "execution_count": 2,
   "metadata": {
    "collapsed": true
   },
   "outputs": [],
   "source": [
    "n_bandits = 15\n",
    "\n",
    "class multiArmedBandit: \n",
    "    def __init__(self):\n",
    "        self.num_bandits = n_bandits\n",
    "        self.arm_values = np.random.normal(0, 1, self.num_bandits) \n",
    "        self.K = np.zeros(self.num_bandits) #inisialisasi banyaknya aksi/tuas tersebut dipilih dengan nol\n",
    "        self.est_values = np.zeros(self.num_bandits) #inisialisasi estimasi untuk masing-masing tuas (bandit)\n",
    "        \n",
    "    def get_reward(self, action): \n",
    "        # reward ditambah dengan Gaussian noise yang juga memiliki sigma = 1 dan mean =0\n",
    "        noise = np.random.normal(0,1) \n",
    "        reward = self.arm_values[action] + noise \n",
    "        return reward \n",
    "\n",
    "    def choose_action(self, epsilon):\n",
    "        # epsilon dari keseluruhan pemilihan akan menggunakan non-greedy actions, \n",
    "        # 1 - epsilon lainnya menggunakan greedy action\n",
    "        rand_num = np.random.rand(1) \n",
    "        if epsilon>rand_num:\n",
    "          return np.random.randint(self.num_bandits)\n",
    "        else: \n",
    "          return np.argmax(self.est_values)\n",
    "\n",
    "    def update_estimation(self, action, reward): \n",
    "        self.K[action] += 1 # mencatat sudah berapa kali aksi tersebut diambil\n",
    "        alpha = 1./self.K[action] # step-size parameter\n",
    "        self.est_values[action] += alpha * (reward - self.est_values[action]) # meng-update estimasi dengan nilai baru\n"
   ]
  },
  {
   "cell_type": "markdown",
   "metadata": {},
   "source": [
    "## Experiment - 1\n",
    "\n",
    "Kita telah membuat k buah bandit dengan reward pada masing-masing bandit terdistribusi normal. Untuk eksperimen kali ini saya akan mencoba untuk membuat semacam *scoreboard* untuk mencatat total *reward* yang didapatkan masing-masing tuas (bandit), kemudian membiarkan *agent* menebak kira-kira bandit manakah yang lebih menjanjikan?"
   ]
  },
  {
   "cell_type": "code",
   "execution_count": 3,
   "metadata": {
    "collapsed": false
   },
   "outputs": [],
   "source": [
    "def experiment_guess(bandit, Npulls, epsilon):\n",
    "    i = 0\n",
    "    total_reward = np.zeros(bandit.num_bandits) #menginisasi scoreboard dengan nol sejumlah bandit yang ada\n",
    "    print 'Scoreboard awal :' + str(total_reward)\n",
    "    print 'Nilai tuas(sebenarnya) : '\n",
    "    print str(bandit.arm_values)\n",
    "    for i in range(Npulls):\n",
    "        action = bandit.choose_action(epsilon)\n",
    "        total_reward[action] = bandit.get_reward(action)\n",
    "        bandit.update_estimation(action, total_reward[action])\n",
    "        if (i % 100) == 0:\n",
    "            print \"Mendapatkan reward untuk \" + str(n_bandits) + \" bandit :\" \n",
    "            print str(total_reward)\n",
    "        i+=1\n",
    "        \n",
    "    # agent menebak bandit mana yang lebih menjanjikan\n",
    "    print \"Agent menebak bandit ke \"+ str(np.argmax(bandit.est_values)+1) + \" lebih menjanjikan.\"\n",
    "    print \"ini est value\" + str(np.argmax(bandit.est_values))\n",
    "    print \"ini arm value\" + str(np.argmax(bandit.arm_values))\n",
    "    if (np.argmax(bandit.est_values) == np.argmax(bandit.arm_values)):\n",
    "        print \"... dan itu benar!\"\n",
    "    else:\n",
    "        print \"... dan itu salah!\"  "
   ]
  },
  {
   "cell_type": "code",
   "execution_count": 4,
   "metadata": {
    "collapsed": false
   },
   "outputs": [
    {
     "name": "stdout",
     "output_type": "stream",
     "text": [
      "Scoreboard awal :[ 0.  0.  0.  0.  0.  0.  0.  0.  0.  0.  0.  0.  0.  0.  0.]\n",
      "Nilai tuas(sebenarnya) : \n",
      "[ 0.33764314 -1.00805692  1.48122962  0.83674693  1.88450308 -0.37856379\n",
      "  0.21256289 -0.88102003  0.70912827  0.96908188  0.09940203  0.31054051\n",
      "  0.94520345 -1.14668834  0.96648358]\n",
      "Mendapatkan reward untuk 15 bandit :\n",
      "[ 1.27946495  0.          0.          0.          0.          0.          0.\n",
      "  0.          0.          0.          0.          0.          0.          0.\n",
      "  0.        ]\n",
      "Mendapatkan reward untuk 15 bandit :\n",
      "[-0.19395315 -0.79054283  0.47186017  0.42908154  0.          0.         -0.5963727\n",
      "  0.         -0.8652606   0.          0.          0.          0.56709057\n",
      " -2.08953953  0.        ]\n",
      "Mendapatkan reward untuk 15 bandit :\n",
      "[-0.19395315 -0.80980719  0.47186017  0.42908154  0.59508986 -0.50429551\n",
      " -0.5963727   0.          0.68722549  0.          0.         -0.66311019\n",
      "  2.22695473 -2.08953953 -0.39325268]\n",
      "Mendapatkan reward untuk 15 bandit :\n",
      "[ 1.58780926  0.14880908 -0.09101405  0.93692412  1.72493788 -0.50429551\n",
      " -0.5963727   0.          0.84814246  0.         -1.72929632  2.01402398\n",
      "  2.22695473 -0.784491    0.71373945]\n",
      "Mendapatkan reward untuk 15 bandit :\n",
      "[ 1.58780926 -0.10531249  1.94632563  1.47352512  2.01017134 -0.25825841\n",
      " -0.5963727  -0.49368535  0.7583223   0.6179925  -0.02218649  0.39027221\n",
      "  2.22695473 -0.784491    0.71373945]\n",
      "Mendapatkan reward untuk 15 bandit :\n",
      "[-0.75300697 -0.10531249  1.47600999  0.20990002  3.65624805 -0.25825841\n",
      " -0.88960163 -0.49368535  0.17827821  0.6179925  -0.02218649  0.39027221\n",
      "  0.94239698 -1.43184679  0.71373945]\n",
      "Mendapatkan reward untuk 15 bandit :\n",
      "[-0.75300697 -2.8431306   1.11574241  0.20990002  2.99032763 -1.04505682\n",
      "  2.57968784 -0.49368535  0.17827821  0.6179925  -0.02218649  0.39027221\n",
      "  0.69083012 -1.2334482   0.61490588]\n",
      "Mendapatkan reward untuk 15 bandit :\n",
      "[ 0.10172061 -1.7787157   1.61298747  0.20990002  2.12451616 -1.22919612\n",
      "  2.57968784 -1.28367542  2.20494376  2.12228204 -0.02218649  0.39027221\n",
      "  0.69083012 -1.55071637  0.61490588]\n",
      "Mendapatkan reward untuk 15 bandit :\n",
      "[ 0.10172061 -2.11123074  1.39474706  0.20990002  3.31746171  0.13650196\n",
      "  0.44732526 -0.01772472  0.8511306   2.1329477  -0.02218649  0.39027221\n",
      "  0.69083012 -2.14604468  0.61490588]\n",
      "Mendapatkan reward untuk 15 bandit :\n",
      "[ 0.0673164  -0.91832181  1.39474706  0.20990002  1.16496731 -0.73461706\n",
      "  0.44732526 -1.07210329  0.41240755  2.1329477  -1.07975359  1.26906003\n",
      "  0.69083012 -2.17957774  0.7081588 ]\n",
      "Mendapatkan reward untuk 15 bandit :\n",
      "[ 0.0673164  -0.91832181  1.39474706  0.82208776  1.62951394 -0.73461706\n",
      "  0.44732526 -1.07210329  1.19052861  2.1329477  -1.20399014  1.26906003\n",
      "  0.69083012 -1.51013008  2.55433398]\n",
      "Mendapatkan reward untuk 15 bandit :\n",
      "[ 0.0673164  -0.23006268  1.21645412  0.82208776  0.34572452 -0.73461706\n",
      " -0.51707489 -1.07210329  0.48864948  2.1329477  -1.00837556  1.26906003\n",
      "  0.52968525 -1.51013008  1.85976894]\n",
      "Mendapatkan reward untuk 15 bandit :\n",
      "[ 0.0673164  -0.23006268  0.80749375  0.82208776  2.79391309 -0.73461706\n",
      " -0.51707489 -1.07210329  0.48864948  0.84466078 -0.76563153  0.90579866\n",
      "  0.08791743 -1.18637216  0.60313869]\n",
      "Mendapatkan reward untuk 15 bandit :\n",
      "[ 0.0673164  -0.93570312  2.8849105   0.55089653  3.01369251 -0.17043201\n",
      " -0.51707489 -1.07210329  1.62529097  0.84466078  0.02034318  0.90579866\n",
      "  0.67245664 -1.18637216  0.33059189]\n",
      "Mendapatkan reward untuk 15 bandit :\n",
      "[ 0.0673164   1.10104974  2.8849105   0.72219126  3.71080916 -0.17043201\n",
      " -0.62142928 -1.07210329  1.25944245  1.0477254   0.02034318  0.90579866\n",
      "  0.57686025 -1.18637216  2.02758726]\n",
      "Mendapatkan reward untuk 15 bandit :\n",
      "[ 0.0673164  -1.07445336  1.62280834  0.20954742  1.14666178 -0.17043201\n",
      "  0.24077938 -1.2092666   1.25944245  1.0477254   0.02034318  1.0812302\n",
      "  0.57686025 -0.82989074  2.02758726]\n",
      "Mendapatkan reward untuk 15 bandit :\n",
      "[-0.56648301 -1.33031774  2.74989085  0.20954742  2.62132923 -0.17043201\n",
      " -0.87938495 -1.2092666   2.71022279  1.0477254   0.96559106  0.3346274\n",
      "  0.16765058 -0.82989074  2.02758726]\n",
      "Mendapatkan reward untuk 15 bandit :\n",
      "[-1.22328675 -1.33031774  2.74711922  0.00831245  1.94521981 -0.17043201\n",
      "  0.86965505 -1.94600561 -0.55711868  1.0477254   0.96559106  0.3346274\n",
      " -0.14149818 -0.70497031  2.02758726]\n",
      "Mendapatkan reward untuk 15 bandit :\n",
      "[-0.32348673 -2.18018292  1.88749164 -0.17695102  1.28912203 -1.70900235\n",
      " -0.47650311 -1.94600561 -1.01842775  1.0477254   0.56056356  0.742072\n",
      " -0.14149818 -0.70497031  0.90348079]\n",
      "Mendapatkan reward untuk 15 bandit :\n",
      "[-0.32348673 -0.41809235  1.88749164  1.53798241  1.2264214  -1.70900235\n",
      " -0.47650311 -1.94600561 -0.13728148  1.0477254   0.56056356 -0.80191762\n",
      " -0.14149818 -0.70497031  2.63964257]\n",
      "Mendapatkan reward untuk 15 bandit :\n",
      "[-0.32348673 -0.41809235  0.96622248  0.80946529  2.17428296 -1.70900235\n",
      "  2.25228726 -1.94600561  0.36039694  0.56358743  0.56056356 -0.66548591\n",
      " -0.14149818 -0.37185983  0.80392412]\n",
      "Mendapatkan reward untuk 15 bandit :\n",
      "[-0.32348673 -0.87699117  2.8922009   0.80946529  1.16361824 -0.85539562\n",
      " -0.10289086 -0.71587777  0.36039694  1.52627511  0.56056356  0.7192369\n",
      "  1.22320305 -0.37185983 -0.68303294]\n",
      "Mendapatkan reward untuk 15 bandit :\n",
      "[-0.32348673 -0.18726978  2.8922009   0.80946529  1.71173304 -0.85539562\n",
      " -0.66646066 -0.71587777  0.87979948  1.42064581  0.56056356  0.7192369\n",
      "  0.72415052  0.27459224  0.10858494]\n",
      "Mendapatkan reward untuk 15 bandit :\n",
      "[ 1.54696447 -0.88551887  1.67533777  0.80946529  3.01992128  0.63488134\n",
      " -0.3565432  -0.71587777  1.4943178   0.70934882  0.56056356  0.7192369\n",
      "  0.72415052  0.24055972 -0.93102276]\n",
      "Mendapatkan reward untuk 15 bandit :\n",
      "[ 1.62151669 -0.62838291  0.16970234  0.80946529  1.49275434 -0.80096201\n",
      " -0.3565432  -2.34406503  1.4943178   0.70934882  0.46165924  0.7192369\n",
      "  0.72415052  0.24055972  0.99716231]\n",
      "Agent menebak bandit ke 5 lebih menjanjikan.\n",
      "ini est value4\n",
      "ini arm value4\n",
      "... dan itu benar!\n"
     ]
    }
   ],
   "source": [
    "Nexperiments = 1 # banyaknya eksperimen yang dijalankan untuk tiap epsilon\n",
    "Npulls = 2500 # banyaknya penarikan dalam satu kali eksperimen\n",
    "#epsilon = 0,1\n",
    "\n",
    "avg_outcome_eps0p1 = np.zeros(Npulls) # rata-rata reward untuk epsilon 0.1\n",
    "\n",
    "for i in range(Nexperiments): \n",
    "   bandit = multiArmedBandit() \n",
    "   experiment_guess(bandit, Npulls, 0.1) "
   ]
  },
  {
   "cell_type": "markdown",
   "metadata": {},
   "source": [
    "## Experiment - 2\n",
    "\n",
    "Mari kita coba modifikasi sedikit fungsi *experiment_guess* untuk menguji bagaimana *epsilon* memengaruhi eksplorasi pada algoritma ini, dengan mencoba menjalankan eksperimen dengan bagian kode di bawah ini:"
   ]
  },
  {
   "cell_type": "code",
   "execution_count": 5,
   "metadata": {
    "collapsed": false
   },
   "outputs": [],
   "source": [
    "def experiment(bandit, Npulls, epsilon):\n",
    "    history = [] \n",
    "    for i in range(Npulls): \n",
    "        action = bandit.choose_action(epsilon)\n",
    "        R = bandit.get_reward(action) \n",
    "        bandit.update_estimation(action,R) \n",
    "        history.append(R) \n",
    "    return np.array(history)"
   ]
  },
  {
   "cell_type": "markdown",
   "metadata": {},
   "source": [
    "Nantinya, kita akan mencoba beberapa nilai epsilon. Untuk setiap nilai epsilon akan dijalankan beberapa kali eksperimen\n",
    "yang terdiri dari sejumlah aksi penarikan tuas bandit-bandit. Kita akan terus mencatat hasil dari setiap eksperimen\n",
    "dan membandingkan bagaimana hasil *reward* untuk setiap epsilon."
   ]
  },
  {
   "cell_type": "code",
   "execution_count": 6,
   "metadata": {
    "collapsed": false
   },
   "outputs": [
    {
     "data": {
      "image/png": "[encoded data removed]",
      "text/plain": [
       "<matplotlib.figure.Figure at 0x7f2810e98410>"
      ]
     },
     "metadata": {},
     "output_type": "display_data"
    }
   ],
   "source": [
    "Nexperiments = 1000 # banyaknya eksperimen yang dijalankan untuk tiap epsilon\n",
    "Npulls = 2500 # banyaknya penarikan dalam satu kali eksperimen\n",
    "\n",
    "avg_outcome_eps0p0 = np.zeros(Npulls) # rata-rata reward untuk epsilon 0.0 (greedy)\n",
    "avg_outcome_eps0p01 = np.zeros(Npulls) # rata-rata reward untuk epsilon 0.01\n",
    "avg_outcome_eps0p1 = np.zeros(Npulls) # rata-rata reward untuk epsilon 0.1\n",
    "\n",
    "for i in range(Nexperiments): \n",
    "   bandit_test1 = multiArmedBandit() \n",
    "   avg_outcome_eps0p0 += experiment(bandit_test1, Npulls, 0.0) \n",
    "   bandit_test2 = multiArmedBandit() \n",
    "   avg_outcome_eps0p01 += experiment(bandit_test2, Npulls, 0.01) \n",
    "   bandit_test3 = multiArmedBandit() \n",
    "   avg_outcome_eps0p1 += experiment(bandit_test3, Npulls,0.1) \n",
    "\n",
    "avg_outcome_eps0p0 /= np.float(Nexperiments) \n",
    "avg_outcome_eps0p01 /= np.float(Nexperiments) \n",
    "avg_outcome_eps0p1 /= np.float(Nexperiments) \n",
    "\n",
    "plt.plot(avg_outcome_eps0p0,label=\"eps = 0.0 (greedy)\") \n",
    "plt.plot(avg_outcome_eps0p01,label=\"eps = 0.01\") \n",
    "plt.plot(avg_outcome_eps0p1,label=\"eps = 0.1\") \n",
    "plt.ylim(0,2.2) \n",
    "plt.legend() \n",
    "plt.show()"
   ]
  },
  {
   "cell_type": "markdown",
   "metadata": {},
   "source": [
    "## What does that mean?\n",
    "\n",
    "Setelah menjalankan 1000 eksperimen untuk tiap epsilon, kita mendapatkan grafik seperti di atas. \n",
    "\n",
    "Graf tersebut menunjukkan peningkatan dalam *reward* yang diterima sejalan dengan pengalaman yang dimiliki *agent*. Dapat kita lihat bahwa *greedy action* meningkat jauh lebih cepat dibandingkan dengan *non-greedy actions* (epsilon yang berbeda), artinya *reward* yang didapatkan sangat tinggi di awal (karena *immediate reward*) namun selama pengambilan aksi tetap berada pada level bawah pada grafik. Di setiap step hanya mendapatkan *reward* tertinggi 1, dibandingkan metode lain yang mencapai 1,55. Performanya 'semakin memburuk' dalam jangka panjang.\n",
    "\n",
    "*epsilon-greedy* pada akhirnya memiliki kinerja yang jauh lebih baik karena melakukan eksplorasi dan perlahan-lahan mengenali aksi yang optimal. \n",
    "\n",
    "\n",
    "## Conclusion\n",
    "\n",
    "Pheww. Simple yet powerful, eh?\n",
    "\n",
    "Algoritma di atas terkadang memberikan hasil yang tidak optimal(pada eksperimen pertama). *Agent* seringkali tidak dapat memaksimalkan *Reward*, namun selalu dapat menebak dengan benar tuas mana yang memberikan *reward* tertinggi.\n"
   ]
  }
 ],
 "metadata": {
  "kernelspec": {
   "display_name": "Python 2",
   "language": "python",
   "name": "python2"
  },
  "language_info": {
   "codemirror_mode": {
    "name": "ipython",
    "version": 2
   },
   "file_extension": ".py",
   "mimetype": "text/x-python",
   "name": "python",
   "nbconvert_exporter": "python",
   "pygments_lexer": "ipython2",
   "version": "2.7.12"
  }
 },
 "nbformat": 4,
 "nbformat_minor": 1
}
